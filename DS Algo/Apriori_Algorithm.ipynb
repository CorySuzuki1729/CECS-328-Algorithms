{
 "cells": [
  {
   "cell_type": "code",
   "execution_count": 1,
   "metadata": {},
   "outputs": [],
   "source": [
    "from itertools import combinations"
   ]
  },
  {
   "cell_type": "code",
   "execution_count": 2,
   "metadata": {},
   "outputs": [],
   "source": [
    "def load_data():\n",
    "    return [['milk'], ['milk','butter'], ['milk', 'bread'], ['milk', 'bread', 'chips']]"
   ]
  },
  {
   "cell_type": "code",
   "execution_count": 3,
   "metadata": {},
   "outputs": [],
   "source": [
    "def prune(item_set, candidates, length):\n",
    "    pruned = []\n",
    "    for candidate in candidates:\n",
    "        is_subsequence = True\n",
    "        for item in candidate:\n",
    "            if item not in item_set or item_set.count(item) < length-1:\n",
    "                is_subsequence = False\n",
    "                break\n",
    "        if is_subsequence:\n",
    "            pruned.append(candidate)\n",
    "    return pruned"
   ]
  },
  {
   "cell_type": "code",
   "execution_count": 4,
   "metadata": {},
   "outputs": [],
   "source": [
    "def apriori(data, min_support):\n",
    "    itemset = [list(transaction) for transaction in data]\n",
    "    frequent_itemsets = []\n",
    "    length = 1\n",
    "\n",
    "    while itemset:\n",
    "        counts = [0]*len(itemset)\n",
    "        for transaction in data:\n",
    "            for j, candidate in enumerate(itemset):\n",
    "                if all(item in transaction for item in candidate):\n",
    "                    counts[j] += 1\n",
    "        itemset = [item for i, item in enumerate(itemset) if counts[i] >= min_support]\n",
    "\n",
    "        for i, item in enumerate(itemset):\n",
    "            frequent_itemsets.append((sorted(item), counts[i]))\n",
    "\n",
    "        length += 1\n",
    "        itemset = prune(itemset, list(combinations(itemset, length)), length)\n",
    "\n",
    "    return frequent_itemsets"
   ]
  },
  {
   "cell_type": "code",
   "execution_count": 5,
   "metadata": {},
   "outputs": [
    {
     "name": "stdout",
     "output_type": "stream",
     "text": [
      "['milk']: 4/n['bread', 'milk']: 1\n"
     ]
    }
   ],
   "source": [
    "if __name__==\"__main__\":\n",
    "    frequent_itemsets = apriori(data=load_data(), min_support=2)\n",
    "    print(\"/n\".join(f\"{itemset}: {support}\" for itemset, support in frequent_itemsets))"
   ]
  }
 ],
 "metadata": {
  "kernelspec": {
   "display_name": "Python 3",
   "language": "python",
   "name": "python3"
  },
  "language_info": {
   "codemirror_mode": {
    "name": "ipython",
    "version": 3
   },
   "file_extension": ".py",
   "mimetype": "text/x-python",
   "name": "python",
   "nbconvert_exporter": "python",
   "pygments_lexer": "ipython3",
   "version": "3.10.4"
  }
 },
 "nbformat": 4,
 "nbformat_minor": 2
}
