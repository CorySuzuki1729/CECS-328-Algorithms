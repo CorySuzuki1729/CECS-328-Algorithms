{
 "cells": [
  {
   "cell_type": "code",
   "execution_count": 1,
   "metadata": {},
   "outputs": [
    {
     "data": {
      "text/plain": [
       "23"
      ]
     },
     "execution_count": 1,
     "metadata": {},
     "output_type": "execute_result"
    }
   ],
   "source": [
    "# Ford-Fulkerson for Maximum Flow\n",
    "\n",
    "graph = [\n",
    "    [0,16,13,0,0,0],\n",
    "    [0,0,10,12,0,0],\n",
    "    [0,4,0,0,14,0],\n",
    "    [0,0,9,0,0,20],\n",
    "    [0,0,0,7,0,4],\n",
    "    [0,0,0,0,0,0],\n",
    "]\n",
    "\n",
    "def breadth_first_search(graph, source, sink, parents):\n",
    "    visited = [False]*len(graph)\n",
    "    queue = []\n",
    "\n",
    "    queue.append(source)\n",
    "    visited[source] = True\n",
    "\n",
    "    while queue:\n",
    "        u = queue.pop(0)\n",
    "        for ind, node in enumerate(graph[u]):\n",
    "            if visited[ind] is False and node > 0:\n",
    "                queue.append(ind)\n",
    "                visited[ind] = True\n",
    "                parents[ind] = u\n",
    "    return visited[sink]\n",
    "\n",
    "def ford_fulkerson(graph, source, sink):\n",
    "    parent = [-1]*(len(graph))\n",
    "    max_flow = 0\n",
    "\n",
    "    while breadth_first_search(graph, source, sink, parent):\n",
    "        path_flow = int(1e9)\n",
    "        s = sink\n",
    "\n",
    "        while s != source:\n",
    "            path_flow = min(path_flow, graph[parent[s]][s])\n",
    "            s = parent[s]\n",
    "        \n",
    "        max_flow += path_flow\n",
    "        v = sink\n",
    "\n",
    "        while v != source:\n",
    "            u = parent[v]\n",
    "            graph[u][v] -= path_flow\n",
    "            graph[v][u] += path_flow\n",
    "            v = parent[v]\n",
    "\n",
    "    return max_flow\n",
    "\n",
    "ford_fulkerson(graph, source=0, sink=5)"
   ]
  },
  {
   "cell_type": "code",
   "execution_count": 2,
   "metadata": {},
   "outputs": [
    {
     "data": {
      "text/plain": [
       "[(1, 3), (4, 3), (4, 5)]"
      ]
     },
     "execution_count": 2,
     "metadata": {},
     "output_type": "execute_result"
    }
   ],
   "source": [
    "# Minimum Cut Algorithm\n",
    "\n",
    "test_graph = [\n",
    "    [0, 16, 13, 0, 0, 0],\n",
    "    [0, 0, 10, 12, 0, 0],\n",
    "    [0, 4, 0, 0, 14, 0],\n",
    "    [0, 0, 9, 0, 0, 20],\n",
    "    [0, 0, 0, 7, 0, 4],\n",
    "    [0, 0, 0, 0, 0, 0],\n",
    "]\n",
    "\n",
    "\n",
    "def bfs(graph, s, t, parent):\n",
    "    # Return True if there is node that has not iterated.\n",
    "    visited = [False] * len(graph)\n",
    "    queue = [s]\n",
    "    visited[s] = True\n",
    "\n",
    "    while queue:\n",
    "        u = queue.pop(0)\n",
    "        for ind in range(len(graph[u])):\n",
    "            if visited[ind] is False and graph[u][ind] > 0:\n",
    "                queue.append(ind)\n",
    "                visited[ind] = True\n",
    "                parent[ind] = u\n",
    "\n",
    "    return visited[t]\n",
    "\n",
    "\n",
    "def mincut(graph, source, sink):\n",
    "    \"\"\"This array is filled by BFS and to store path\n",
    "    >>> mincut(test_graph, source=0, sink=5)\n",
    "    [(1, 3), (4, 3), (4, 5)]\n",
    "    \"\"\"\n",
    "    parent = [-1] * (len(graph))\n",
    "    max_flow = 0\n",
    "    res = []\n",
    "    temp = [i[:] for i in graph]  # Record original cut, copy.\n",
    "    while bfs(graph, source, sink, parent):\n",
    "        path_flow = float(\"Inf\")\n",
    "        s = sink\n",
    "\n",
    "        while s != source:\n",
    "            # Find the minimum value in select path\n",
    "            path_flow = min(path_flow, graph[parent[s]][s])\n",
    "            s = parent[s]\n",
    "\n",
    "        max_flow += path_flow\n",
    "        v = sink\n",
    "\n",
    "        while v != source:\n",
    "            u = parent[v]\n",
    "            graph[u][v] -= path_flow\n",
    "            graph[v][u] += path_flow\n",
    "            v = parent[v]\n",
    "\n",
    "    for i in range(len(graph)):\n",
    "        for j in range(len(graph[0])):\n",
    "            if graph[i][j] == 0 and temp[i][j] > 0:\n",
    "                res.append((i, j))\n",
    "\n",
    "    return res\n",
    "\n",
    "mincut(test_graph, source=0, sink=5)"
   ]
  }
 ],
 "metadata": {
  "kernelspec": {
   "display_name": "Python 3",
   "language": "python",
   "name": "python3"
  },
  "language_info": {
   "codemirror_mode": {
    "name": "ipython",
    "version": 3
   },
   "file_extension": ".py",
   "mimetype": "text/x-python",
   "name": "python",
   "nbconvert_exporter": "python",
   "pygments_lexer": "ipython3",
   "version": "3.10.4"
  }
 },
 "nbformat": 4,
 "nbformat_minor": 2
}
