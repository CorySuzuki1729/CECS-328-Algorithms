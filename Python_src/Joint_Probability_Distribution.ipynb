{
 "cells": [
  {
   "cell_type": "code",
   "execution_count": 1,
   "metadata": {},
   "outputs": [],
   "source": [
    "# Calculate Basic Statistics of a Joint PDF\n",
    "\n",
    "def joint_probability_distribution(x_values, y_values, x_probabilities, y_probabilities):\n",
    "    return {\n",
    "        (x, y): x_prob * y_prob\n",
    "        for x, x_prob in zip(x_values, x_probabilities)\n",
    "        for y, y_prob in zip(y_values, y_probabilities)\n",
    "    }\n",
    "\n",
    "def expectation(values, probabilities):\n",
    "    return sum(x*p for x, p in zip(values, probabilities))\n",
    "\n",
    "def variance(values, probabilities):\n",
    "    mean = expectation(values, probabilities)\n",
    "    return sum((x-mean)**2*p for x, p in zip(values, probabilities))\n",
    "\n",
    "def covariance(x_values, y_values, x_probabilities, y_probabilities):\n",
    "    mean_x = expectation(x_values, x_probabilities)\n",
    "    mean_y = expectation(y_values, y_probabilities)\n",
    "    return sum(\n",
    "        (x-mean_x)*(y-mean_y)*px*py for x,px in zip(x_values, x_probabilities)\n",
    "        for y, py in zip(y_values, y_probabilities)\n",
    "    )\n",
    "\n",
    "def standard_deviation(variance):\n",
    "    return variance**0.5"
   ]
  },
  {
   "cell_type": "code",
   "execution_count": 2,
   "metadata": {},
   "outputs": [
    {
     "data": {
      "text/plain": [
       "{(1, -2): 0.21,\n",
       " (1, 5): 0.35,\n",
       " (1, 8): 0.13999999999999999,\n",
       " (2, -2): 0.09,\n",
       " (2, 5): 0.15,\n",
       " (2, 8): 0.06}"
      ]
     },
     "execution_count": 2,
     "metadata": {},
     "output_type": "execute_result"
    }
   ],
   "source": [
    "joint_probability_distribution([1,2], [-2,5,8], [0.7, 0.3], [0.3,0.5,0.2])"
   ]
  }
 ],
 "metadata": {
  "kernelspec": {
   "display_name": "Python 3",
   "language": "python",
   "name": "python3"
  },
  "language_info": {
   "codemirror_mode": {
    "name": "ipython",
    "version": 3
   },
   "file_extension": ".py",
   "mimetype": "text/x-python",
   "name": "python",
   "nbconvert_exporter": "python",
   "pygments_lexer": "ipython3",
   "version": "3.10.4"
  }
 },
 "nbformat": 4,
 "nbformat_minor": 2
}
