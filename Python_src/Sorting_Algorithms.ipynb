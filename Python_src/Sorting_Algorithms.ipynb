{
 "cells": [
  {
   "cell_type": "code",
   "execution_count": 1,
   "metadata": {},
   "outputs": [],
   "source": [
    "sequence = [7,9,15,4,3,5]"
   ]
  },
  {
   "cell_type": "code",
   "execution_count": 2,
   "metadata": {},
   "outputs": [
    {
     "data": {
      "text/plain": [
       "[3, 4, 5, 7, 9, 15]"
      ]
     },
     "execution_count": 2,
     "metadata": {},
     "output_type": "execute_result"
    }
   ],
   "source": [
    "# Bead Sort (only works for nonnegative integers)\n",
    "\n",
    "def bead_sort(unsorted):\n",
    "    if any(not isinstance(x, int) or x<0 for x in unsorted):\n",
    "        raise TypeError(\"Sequence must be a list of positive integers\")\n",
    "    for i in range(len(unsorted)):\n",
    "        for j, (rod_upper, rod_lower) in enumerate(zip(unsorted, unsorted[1:])):\n",
    "            if rod_upper > rod_lower:\n",
    "                unsorted[j] -= rod_upper - rod_lower\n",
    "                unsorted[j+1] += rod_upper - rod_lower\n",
    "    return unsorted\n",
    "\n",
    "bead_sort(sequence)"
   ]
  },
  {
   "cell_type": "code",
   "execution_count": 3,
   "metadata": {},
   "outputs": [
    {
     "data": {
      "text/plain": [
       "[3, 4, 5, 7, 9, 15]"
      ]
     },
     "execution_count": 3,
     "metadata": {},
     "output_type": "execute_result"
    }
   ],
   "source": [
    "# Binary Insertion Sort\n",
    "\n",
    "def binary_insertion_sort(unsorted):\n",
    "    n = len(unsorted)\n",
    "    for i in range(1,n):\n",
    "        value_to_insert = unsorted[i]\n",
    "        low = 0\n",
    "        high = i-1\n",
    "\n",
    "        while low <= high:\n",
    "            mid = (low+high)//2\n",
    "            if value_to_insert < unsorted[mid]:\n",
    "                high = mid-1\n",
    "            else:\n",
    "                low = mid+1\n",
    "        for j in range(i, low, -1):\n",
    "            unsorted[j] = unsorted[j-1]\n",
    "        unsorted[low] = value_to_insert\n",
    "    return unsorted\n",
    "\n",
    "binary_insertion_sort(sequence)"
   ]
  },
  {
   "cell_type": "code",
   "execution_count": 4,
   "metadata": {},
   "outputs": [
    {
     "data": {
      "text/plain": [
       "[3, 4, 5, 7, 9, 15]"
      ]
     },
     "execution_count": 4,
     "metadata": {},
     "output_type": "execute_result"
    }
   ],
   "source": [
    "# Bubble Sort\n",
    "\n",
    "def bubble_sort(unsorted):\n",
    "    length = len(unsorted)\n",
    "    for i in reversed(range(length)):\n",
    "        swapped = False\n",
    "        for j in range(i):\n",
    "            if unsorted[j] > unsorted[j+1]:\n",
    "                swapped = True\n",
    "                unsorted[j], unsorted[j+1] = unsorted[j+1], unsorted[j]\n",
    "        if not swapped:\n",
    "            break\n",
    "    return unsorted\n",
    "\n",
    "bubble_sort(sequence)"
   ]
  },
  {
   "cell_type": "code",
   "execution_count": 5,
   "metadata": {},
   "outputs": [
    {
     "data": {
      "text/plain": [
       "[3, 4, 5, 7, 9, 15]"
      ]
     },
     "execution_count": 5,
     "metadata": {},
     "output_type": "execute_result"
    }
   ],
   "source": [
    "# Bucket Sort\n",
    "\n",
    "def bucket_sort(unsorted, bucket_count):\n",
    "    if len(unsorted) == 0 or bucket_count <= 0:\n",
    "        return []\n",
    "    min_value, max_value = min(unsorted), max(unsorted)\n",
    "    bucket_size = (max_value-min_value)/bucket_count\n",
    "    buckets: list[list] = [[] for _ in range(bucket_count)]\n",
    "\n",
    "    for val in unsorted:\n",
    "        index = min(int((val-min_value)/bucket_size), bucket_count-1)\n",
    "        buckets[index].append(val)\n",
    "    return [val for bucket in buckets for val in sorted(bucket)]\n",
    "\n",
    "bucket_sort(sequence, 5)"
   ]
  },
  {
   "cell_type": "code",
   "execution_count": 6,
   "metadata": {},
   "outputs": [
    {
     "data": {
      "text/plain": [
       "[3, 4, 5, 7, 9, 15]"
      ]
     },
     "execution_count": 6,
     "metadata": {},
     "output_type": "execute_result"
    }
   ],
   "source": [
    "# Heap Sort\n",
    "\n",
    "def heapify(unsorted, index, heap_size):\n",
    "    largest = index\n",
    "    left_index = 2*index+1\n",
    "    right_index = 2*index+2\n",
    "    if left_index < heap_size and unsorted[left_index] > unsorted[largest]:\n",
    "        largest = left_index\n",
    "    if right_index < heap_size and unsorted[right_index] > unsorted[largest]:\n",
    "        largest = right_index\n",
    "    if largest != index:\n",
    "        unsorted[largest], unsorted[index] = (unsorted[index], unsorted[largest])\n",
    "        heapify(unsorted, largest, heap_size)\n",
    "\n",
    "def heap_sort(unsorted):\n",
    "    n = len(unsorted)\n",
    "    for i in range(n//2-1,-1,-1):\n",
    "        heapify(unsorted, i, n)\n",
    "    for i in range(n-1,0,-1):\n",
    "        unsorted[0], unsorted[i] = unsorted[i], unsorted[0]\n",
    "        heapify(unsorted, 0, i)\n",
    "    return unsorted\n",
    "\n",
    "heap_sort(sequence)"
   ]
  },
  {
   "cell_type": "code",
   "execution_count": 8,
   "metadata": {},
   "outputs": [
    {
     "data": {
      "text/plain": [
       "[3, 4, 5, 7, 9, 15]"
      ]
     },
     "execution_count": 8,
     "metadata": {},
     "output_type": "execute_result"
    }
   ],
   "source": [
    "# Merge Sort\n",
    "def merge_sort(unsorted):\n",
    "    def merge(left, right):\n",
    "        result = []\n",
    "        while left and right:\n",
    "            result.append(left.pop(0) if left[0] <= right[0] else right.pop(0))\n",
    "        result.extend(left)\n",
    "        result.extend(right)\n",
    "        return result\n",
    "\n",
    "    if len(unsorted) <= 1:\n",
    "        return unsorted\n",
    "    mid_index = len(unsorted) // 2\n",
    "    return merge(merge_sort(unsorted[:mid_index]), merge_sort(unsorted[mid_index:]))\n",
    "\n",
    "merge_sort(sequence)"
   ]
  },
  {
   "cell_type": "code",
   "execution_count": 12,
   "metadata": {},
   "outputs": [
    {
     "name": "stdout",
     "output_type": "stream",
     "text": [
      "[3, 4, 5, 7, 9, 15, 'c', 'd', 'e', 'b', 'a']\n"
     ]
    }
   ],
   "source": [
    "# Topological Sort\n",
    "\n",
    "edges: dict[str, list[str]] = {\n",
    "    \"a\": [\"c\", \"b\"],\n",
    "    \"b\": [\"d\", \"e\"],\n",
    "    \"c\": [],\n",
    "    \"d\": [],\n",
    "    \"e\": [],\n",
    "}\n",
    "\n",
    "vertices =  [\"a\", \"b\", \"c\", \"d\", \"e\"]\n",
    "\n",
    "def topological_sort(start, visited, unsorted):\n",
    "    current = start\n",
    "    visited.append(current)\n",
    "    neighbors = edges[current]\n",
    "    for neighbor in neighbors:\n",
    "        if neighbor not in visited:\n",
    "            unsorted = topological_sort(neighbor, visited, unsorted)\n",
    "    unsorted.append(current)\n",
    "    if len(visited) != len(vertices):\n",
    "        for vertice in vertices:\n",
    "            if vertice not in visited:\n",
    "                unsorted = topological_sort(vertice, visited, unsorted)\n",
    "    return unsorted\n",
    "\n",
    "sort = topological_sort(\"a\", [], sequence)\n",
    "print(sort)"
   ]
  }
 ],
 "metadata": {
  "kernelspec": {
   "display_name": "Python 3",
   "language": "python",
   "name": "python3"
  },
  "language_info": {
   "codemirror_mode": {
    "name": "ipython",
    "version": 3
   },
   "file_extension": ".py",
   "mimetype": "text/x-python",
   "name": "python",
   "nbconvert_exporter": "python",
   "pygments_lexer": "ipython3",
   "version": "3.10.4"
  }
 },
 "nbformat": 4,
 "nbformat_minor": 2
}
